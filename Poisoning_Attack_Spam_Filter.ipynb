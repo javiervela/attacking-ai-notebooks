{
  "nbformat": 4,
  "nbformat_minor": 0,
  "metadata": {
    "colab": {
      "name": "Poisoning_Attack_Spam_Filter",
      "provenance": [],
      "collapsed_sections": []
    },
    "kernelspec": {
      "name": "python3",
      "display_name": "Python 3"
    },
    "language_info": {
      "name": "python"
    }
  },
  "cells": [
    {
      "cell_type": "markdown",
      "source": [
        "# Poisoning Attack Spam Filter\n",
        "\n",
        "Code based on [Build a machine learning email spam detector with Python](https://blog.logrocket.com/email-spam-detector-python-machine-learning/"
      ],
      "metadata": {
        "id": "8GrOvKqSTjhX"
      }
    },
    {
      "cell_type": "markdown",
      "source": [
        "## Import Libraries"
      ],
      "metadata": {
        "id": "I8PMuYoVTtRV"
      }
    },
    {
      "cell_type": "code",
      "source": [
        "import pandas as pd\n",
        "from sklearn.model_selection import train_test_split\n",
        "from sklearn.feature_extraction.text import CountVectorizer\n",
        "from sklearn import svm "
      ],
      "metadata": {
        "id": "9PLwu3mwMCiC"
      },
      "execution_count": 102,
      "outputs": []
    },
    {
      "cell_type": "markdown",
      "source": [
        "## Download Data and Process CSV"
      ],
      "metadata": {
        "id": "BcuM-17hTx8f"
      }
    },
    {
      "cell_type": "code",
      "source": [
        "!wget https://raw.githubusercontent.com/SmallLion/Python-Projects/main/Spam-detection/spam.csv"
      ],
      "metadata": {
        "colab": {
          "base_uri": "https://localhost:8080/"
        },
        "id": "GJpEuu13MFIq",
        "outputId": "ea28b663-da48-4f7b-8f2c-c634cbd312dd"
      },
      "execution_count": 103,
      "outputs": [
        {
          "output_type": "stream",
          "name": "stdout",
          "text": [
            "--2022-04-18 20:17:07--  https://raw.githubusercontent.com/SmallLion/Python-Projects/main/Spam-detection/spam.csv\n",
            "Resolving raw.githubusercontent.com (raw.githubusercontent.com)... 185.199.108.133, 185.199.109.133, 185.199.110.133, ...\n",
            "Connecting to raw.githubusercontent.com (raw.githubusercontent.com)|185.199.108.133|:443... connected.\n",
            "HTTP request sent, awaiting response... 200 OK\n",
            "Length: 499362 (488K) [text/plain]\n",
            "Saving to: ‘spam.csv.1’\n",
            "\n",
            "spam.csv.1          100%[===================>] 487.66K  --.-KB/s    in 0.04s   \n",
            "\n",
            "2022-04-18 20:17:07 (13.1 MB/s) - ‘spam.csv.1’ saved [499362/499362]\n",
            "\n"
          ]
        }
      ]
    },
    {
      "cell_type": "code",
      "source": [
        "spam = pd.read_csv('spam.csv')"
      ],
      "metadata": {
        "id": "21H_pJ4ePFeI"
      },
      "execution_count": 104,
      "outputs": []
    },
    {
      "cell_type": "markdown",
      "source": [
        "## Split Dataset into Train and Test"
      ],
      "metadata": {
        "id": "KTBRVS9qUBU4"
      }
    },
    {
      "cell_type": "code",
      "source": [
        "x = spam['v2']\n",
        "y = spam[\"v1\"]\n",
        "x_train, x_test, y_train, y_test = train_test_split(z,y,test_size = 0.2)"
      ],
      "metadata": {
        "id": "oTBse1pPQHHr"
      },
      "execution_count": 136,
      "outputs": []
    },
    {
      "cell_type": "markdown",
      "source": [
        "## Obtain Features and Train Model"
      ],
      "metadata": {
        "id": "j0eb0LmZULbF"
      }
    },
    {
      "cell_type": "code",
      "source": [
        "cv = CountVectorizer()\n",
        "features = cv.fit_transform(x_train)"
      ],
      "metadata": {
        "id": "aIJ8h9jCQMQ7"
      },
      "execution_count": 137,
      "outputs": []
    },
    {
      "cell_type": "code",
      "source": [
        "model = svm.SVC()\n",
        "model.fit(features,y_train)"
      ],
      "metadata": {
        "colab": {
          "base_uri": "https://localhost:8080/"
        },
        "id": "dUenLqPmQVkI",
        "outputId": "16fd3ac6-8334-4738-ddf7-90449c0485ce"
      },
      "execution_count": 138,
      "outputs": [
        {
          "output_type": "execute_result",
          "data": {
            "text/plain": [
              "SVC()"
            ]
          },
          "metadata": {},
          "execution_count": 138
        }
      ]
    },
    {
      "cell_type": "markdown",
      "source": [
        "## Evaluate Model Accuracy"
      ],
      "metadata": {
        "id": "lEaYV27cUbfb"
      }
    },
    {
      "cell_type": "code",
      "source": [
        "features_test = cv.transform(x_test)\n",
        "print(\"Accuracy: {}\".format(model.score(features_test,y_test)))"
      ],
      "metadata": {
        "colab": {
          "base_uri": "https://localhost:8080/"
        },
        "id": "A4x12XXKQaW6",
        "outputId": "c9179c8c-1266-4252-be27-5770afe4a26b"
      },
      "execution_count": 139,
      "outputs": [
        {
          "output_type": "stream",
          "name": "stdout",
          "text": [
            "Accuracy: 0.9847533632286996\n"
          ]
        }
      ]
    },
    {
      "cell_type": "markdown",
      "source": [
        "## Poison 50% of Training Data and Re-train model"
      ],
      "metadata": {
        "id": "RnidrzLbUhrI"
      }
    },
    {
      "cell_type": "code",
      "source": [
        "import random\n",
        "\n",
        "for i, y in enumerate(y_train):\n",
        "  if random.random() > 0.5:\n",
        "    y_train.iloc[i] = 'spam'\n"
      ],
      "metadata": {
        "id": "7JzOlY6jROkh"
      },
      "execution_count": 140,
      "outputs": []
    },
    {
      "cell_type": "code",
      "source": [
        "model = svm.SVC()\n",
        "model.fit(features,y_train)"
      ],
      "metadata": {
        "colab": {
          "base_uri": "https://localhost:8080/"
        },
        "id": "kg80dFndSkM4",
        "outputId": "0dec4eed-0b1e-4b24-e3cf-ee641096f629"
      },
      "execution_count": 141,
      "outputs": [
        {
          "output_type": "execute_result",
          "data": {
            "text/plain": [
              "SVC()"
            ]
          },
          "metadata": {},
          "execution_count": 141
        }
      ]
    },
    {
      "cell_type": "markdown",
      "source": [
        "## Evaluate Poisoned Model Accuracy"
      ],
      "metadata": {
        "id": "GR_WKQMbVEUU"
      }
    },
    {
      "cell_type": "code",
      "source": [
        "features_test = cv.transform(x_test)\n",
        "print(\"Accuracy: {}\".format(model.score(features_test,y_test)))"
      ],
      "metadata": {
        "colab": {
          "base_uri": "https://localhost:8080/"
        },
        "id": "CXodpJrsTeT9",
        "outputId": "8e34508d-655a-49aa-d07f-0fa891947b2d"
      },
      "execution_count": 142,
      "outputs": [
        {
          "output_type": "stream",
          "name": "stdout",
          "text": [
            "Accuracy: 0.42152466367713004\n"
          ]
        }
      ]
    }
  ]
}