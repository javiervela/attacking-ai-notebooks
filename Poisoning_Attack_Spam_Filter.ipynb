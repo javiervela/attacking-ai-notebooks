{
  "nbformat": 4,
  "nbformat_minor": 0,
  "metadata": {
    "colab": {
      "name": "Poisoning_Attack_Spam_Filter",
      "provenance": [],
      "collapsed_sections": []
    },
    "kernelspec": {
      "name": "python3",
      "display_name": "Python 3"
    },
    "language_info": {
      "name": "python"
    }
  },
  "cells": [
    {
      "cell_type": "markdown",
      "source": [
        "# Poisoning Attack Spam Filter\n",
        "\n",
        "Code based on [Build a machine learning email spam detector with Python](https://blog.logrocket.com/email-spam-detector-python-machine-learning/"
      ],
      "metadata": {
        "id": "8GrOvKqSTjhX"
      }
    },
    {
      "cell_type": "markdown",
      "source": [
        "## Import Libraries"
      ],
      "metadata": {
        "id": "I8PMuYoVTtRV"
      }
    },
    {
      "cell_type": "code",
      "source": [
        "import pandas as pd\n",
        "from sklearn.model_selection import train_test_split\n",
        "from sklearn.feature_extraction.text import CountVectorizer\n",
        "from sklearn import svm "
      ],
      "metadata": {
        "id": "9PLwu3mwMCiC"
      },
      "execution_count": 1,
      "outputs": []
    },
    {
      "cell_type": "markdown",
      "source": [
        "## Download Data and Process CSV"
      ],
      "metadata": {
        "id": "BcuM-17hTx8f"
      }
    },
    {
      "cell_type": "code",
      "source": [
        "!wget https://raw.githubusercontent.com/SmallLion/Python-Projects/main/Spam-detection/spam.csv"
      ],
      "metadata": {
        "colab": {
          "base_uri": "https://localhost:8080/"
        },
        "id": "GJpEuu13MFIq",
        "outputId": "da58048f-4dc5-4af3-8f1b-66608ad78ed5"
      },
      "execution_count": 2,
      "outputs": [
        {
          "output_type": "stream",
          "name": "stdout",
          "text": [
            "--2022-04-20 20:42:11--  https://raw.githubusercontent.com/SmallLion/Python-Projects/main/Spam-detection/spam.csv\n",
            "Resolving raw.githubusercontent.com (raw.githubusercontent.com)... 185.199.109.133, 185.199.110.133, 185.199.108.133, ...\n",
            "Connecting to raw.githubusercontent.com (raw.githubusercontent.com)|185.199.109.133|:443... connected.\n",
            "HTTP request sent, awaiting response... 200 OK\n",
            "Length: 499362 (488K) [text/plain]\n",
            "Saving to: ‘spam.csv.8’\n",
            "\n",
            "\rspam.csv.8            0%[                    ]       0  --.-KB/s               \rspam.csv.8          100%[===================>] 487.66K  --.-KB/s    in 0.03s   \n",
            "\n",
            "2022-04-20 20:42:11 (19.0 MB/s) - ‘spam.csv.8’ saved [499362/499362]\n",
            "\n"
          ]
        }
      ]
    },
    {
      "cell_type": "code",
      "source": [
        "spam = pd.read_csv('spam.csv')"
      ],
      "metadata": {
        "id": "21H_pJ4ePFeI"
      },
      "execution_count": 3,
      "outputs": []
    },
    {
      "cell_type": "markdown",
      "source": [
        "## Split Dataset into Train and Test"
      ],
      "metadata": {
        "id": "KTBRVS9qUBU4"
      }
    },
    {
      "cell_type": "code",
      "source": [
        "x = spam['v2']\n",
        "y = spam[\"v1\"]\n",
        "x_train, x_test, y_train, y_test = train_test_split(x, y,test_size = 0.2)\n",
        "x_train, x_poisoning, y_train, y_poisoning = train_test_split(x_train, y_train,test_size = 0.01)"
      ],
      "metadata": {
        "id": "oTBse1pPQHHr"
      },
      "execution_count": 4,
      "outputs": []
    },
    {
      "cell_type": "code",
      "source": [
        "data_train_dic = {'x': x_train, 'y': y_train}\n",
        "data_train = pd.DataFrame(data_train_dic)\n",
        "data_test_dic = {'x': x_test, 'y': y_test}\n",
        "data_test = pd.DataFrame(data_test_dic)\n",
        "data_poisoning_dic = {'x': x_poisoning, 'y': y_poisoning}\n",
        "data_poisoning = pd.DataFrame(data_poisoning_dic)"
      ],
      "metadata": {
        "id": "U2Y1LhsJrAXJ"
      },
      "execution_count": 5,
      "outputs": []
    },
    {
      "cell_type": "code",
      "source": [
        "print(\"TRAIN DATA. size:\", len(data_train))\n",
        "print(data_train.head(10))"
      ],
      "metadata": {
        "colab": {
          "base_uri": "https://localhost:8080/"
        },
        "id": "XNNxaC8PrYrY",
        "outputId": "ca3b5013-d76a-49d3-b4bd-a707291998ef"
      },
      "execution_count": 6,
      "outputs": [
        {
          "output_type": "stream",
          "name": "stdout",
          "text": [
            "TRAIN DATA. size: 4412\n",
            "                                                      x    y\n",
            "1541  Do u konw waht is rael FRIENDSHIP Im gving yuo...  ham\n",
            "5209  I know you are thinkin malaria. But relax, chi...  ham\n",
            "2239  Every day i use to sleep after  &lt;#&gt;  so ...  ham\n",
            "5439       Hey i've booked the 2 lessons on sun liao...  ham\n",
            "618   I come n pick Ì_ up... Come out immediately af...  ham\n",
            "2536                           You do what all you like  ham\n",
            "4312  I wasn't well babe, i have swollen glands at m...  ham\n",
            "2537          That's y we haf to combine n c how lor...  ham\n",
            "4869  Dip's cell dead. So i m coming with him. U bet...  ham\n",
            "4223  Double eviction this week - Spiral and Michael...  ham\n"
          ]
        }
      ]
    },
    {
      "cell_type": "code",
      "source": [
        "print(\"TEST DATA. size:\", len(data_test))\n",
        "print(data_test.head(10))"
      ],
      "metadata": {
        "colab": {
          "base_uri": "https://localhost:8080/"
        },
        "id": "mhUXlIZ3r48E",
        "outputId": "9ab03438-d833-4bc9-cab1-bfaf58b0a338"
      },
      "execution_count": 7,
      "outputs": [
        {
          "output_type": "stream",
          "name": "stdout",
          "text": [
            "TEST DATA. size: 1115\n",
            "                                                      x     y\n",
            "2895  pdate_Now - Double mins and 1000 txts on Orang...  spam\n",
            "827                              Hey. You got any mail?   ham\n",
            "1270  Sorry chikku, my cell got some problem thts y ...   ham\n",
            "3902  Waiting in e car 4 my mum lor. U leh? Reach ho...   ham\n",
            "4573                           :( but your not here....   ham\n",
            "3875                             did u get that message   ham\n",
            "2574  Your next amazing xxx PICSFREE1 video will be ...  spam\n",
            "3671   came to look at the flat, seems ok, in his 50...   ham\n",
            "4964  A few people are at the game, I'm at the mall ...   ham\n",
            "1286  Night has ended for another day, morning has c...   ham\n"
          ]
        }
      ]
    },
    {
      "cell_type": "code",
      "source": [
        "print(\"POISONING DATA. size:\", len(data_poisoning))\n",
        "print(data_poisoning.head(10))"
      ],
      "metadata": {
        "colab": {
          "base_uri": "https://localhost:8080/"
        },
        "id": "uWlSmQm9symf",
        "outputId": "89b31ab4-3bda-429b-fc06-ebb5a9081f8f"
      },
      "execution_count": 8,
      "outputs": [
        {
          "output_type": "stream",
          "name": "stdout",
          "text": [
            "POISONING DATA. size: 45\n",
            "                                                      x     y\n",
            "4221  Yo you around? A friend of mine's lookin to pi...   ham\n",
            "4901  * FREE* POLYPHONIC RINGTONE Text SUPER to 8713...  spam\n",
            "3561  Still chance there. If you search hard you wil...   ham\n",
            "4894  Want the latest Video handset? 750 anytime any...  spam\n",
            "5474  Where's mummy's boy ? Is he being good or bad ...   ham\n",
            "443                              Sorry, I'll call later   ham\n",
            "3046  Ok. Not much to do here though. H&M Friday, ca...   ham\n",
            "1392  Thk shld b can... Ya, i wana go 4 lessons... H...   ham\n",
            "4511        Now project pa. After that only i can come.   ham\n",
            "4832  New Mobiles from 2004, MUST GO! Txt: NOKIA to ...  spam\n"
          ]
        }
      ]
    },
    {
      "cell_type": "markdown",
      "source": [
        "## Obtain Features and Train Model"
      ],
      "metadata": {
        "id": "j0eb0LmZULbF"
      }
    },
    {
      "cell_type": "code",
      "source": [
        "cv = CountVectorizer()\n",
        "features = cv.fit_transform(x_train)"
      ],
      "metadata": {
        "id": "aIJ8h9jCQMQ7"
      },
      "execution_count": 9,
      "outputs": []
    },
    {
      "cell_type": "code",
      "source": [
        "model = svm.SVC()\n",
        "model.fit(features,y_train)"
      ],
      "metadata": {
        "colab": {
          "base_uri": "https://localhost:8080/"
        },
        "id": "dUenLqPmQVkI",
        "outputId": "de97e52d-25e0-46f3-90d2-fbe05d5330a1"
      },
      "execution_count": 10,
      "outputs": [
        {
          "output_type": "execute_result",
          "data": {
            "text/plain": [
              "SVC()"
            ]
          },
          "metadata": {},
          "execution_count": 10
        }
      ]
    },
    {
      "cell_type": "markdown",
      "source": [
        "## Evaluate Model Accuracy"
      ],
      "metadata": {
        "id": "lEaYV27cUbfb"
      }
    },
    {
      "cell_type": "code",
      "source": [
        "features_test = cv.transform(x_test)\n",
        "print(\"Accuracy: {}\".format(model.score(features_test,y_test)))"
      ],
      "metadata": {
        "colab": {
          "base_uri": "https://localhost:8080/"
        },
        "id": "A4x12XXKQaW6",
        "outputId": "574f427b-389f-446d-db4f-b64f5a3fe8d3"
      },
      "execution_count": 11,
      "outputs": [
        {
          "output_type": "stream",
          "name": "stdout",
          "text": [
            "Accuracy: 0.9838565022421525\n"
          ]
        }
      ]
    },
    {
      "cell_type": "markdown",
      "source": [
        "## Poison 50% of Training Data and Re-train model"
      ],
      "metadata": {
        "id": "RnidrzLbUhrI"
      }
    },
    {
      "cell_type": "code",
      "source": [
        "import random\n",
        "\n",
        "for i, y in enumerate(y_poisoning):\n",
        "  if y == 'ham':\n",
        "    y_poisoning.iloc[i] = 'spam'\n",
        "  else:\n",
        "    y_poisoning.iloc[i] = 'ham'\n"
      ],
      "metadata": {
        "id": "7JzOlY6jROkh"
      },
      "execution_count": 12,
      "outputs": []
    },
    {
      "cell_type": "code",
      "source": [
        "data_poisoning_dic = {'x': x_poisoning, 'y': y_poisoning}\n",
        "data_poisoning = pd.DataFrame(data_poisoning_dic)\n",
        "print(\"POISONED DATA. size:\", len(data_poisoning))\n",
        "print(data_poisoning.head(10))"
      ],
      "metadata": {
        "colab": {
          "base_uri": "https://localhost:8080/"
        },
        "id": "ss7Are53sBsq",
        "outputId": "db3e15a6-146e-4937-c7fd-8d311fb015b9"
      },
      "execution_count": 13,
      "outputs": [
        {
          "output_type": "stream",
          "name": "stdout",
          "text": [
            "POISONED DATA. size: 45\n",
            "                                                      x     y\n",
            "4221  Yo you around? A friend of mine's lookin to pi...  spam\n",
            "4901  * FREE* POLYPHONIC RINGTONE Text SUPER to 8713...   ham\n",
            "3561  Still chance there. If you search hard you wil...  spam\n",
            "4894  Want the latest Video handset? 750 anytime any...   ham\n",
            "5474  Where's mummy's boy ? Is he being good or bad ...  spam\n",
            "443                              Sorry, I'll call later  spam\n",
            "3046  Ok. Not much to do here though. H&M Friday, ca...  spam\n",
            "1392  Thk shld b can... Ya, i wana go 4 lessons... H...  spam\n",
            "4511        Now project pa. After that only i can come.  spam\n",
            "4832  New Mobiles from 2004, MUST GO! Txt: NOKIA to ...   ham\n"
          ]
        }
      ]
    },
    {
      "cell_type": "code",
      "source": [
        "cv = CountVectorizer()\n",
        "features = cv.fit_transform(x_poisoning)"
      ],
      "metadata": {
        "id": "8tHhqYgqqZId"
      },
      "execution_count": 14,
      "outputs": []
    },
    {
      "cell_type": "code",
      "source": [
        "model = svm.SVC()\n",
        "model.fit(features,y_poisoning)"
      ],
      "metadata": {
        "colab": {
          "base_uri": "https://localhost:8080/"
        },
        "id": "kg80dFndSkM4",
        "outputId": "acc32add-c2fb-4846-e3d8-bc6c880cc4dc"
      },
      "execution_count": 15,
      "outputs": [
        {
          "output_type": "execute_result",
          "data": {
            "text/plain": [
              "SVC()"
            ]
          },
          "metadata": {},
          "execution_count": 15
        }
      ]
    },
    {
      "cell_type": "markdown",
      "source": [
        "## Evaluate Poisoned Model Accuracy"
      ],
      "metadata": {
        "id": "GR_WKQMbVEUU"
      }
    },
    {
      "cell_type": "code",
      "source": [
        "features_test = cv.transform(x_test)\n",
        "print(\"Accuracy: {}\".format(model.score(features_test,y_test)))"
      ],
      "metadata": {
        "colab": {
          "base_uri": "https://localhost:8080/"
        },
        "id": "CXodpJrsTeT9",
        "outputId": "c41cfea3-8d41-488d-ed94-a140222bfc22"
      },
      "execution_count": 16,
      "outputs": [
        {
          "output_type": "stream",
          "name": "stdout",
          "text": [
            "Accuracy: 0.14349775784753363\n"
          ]
        }
      ]
    }
  ]
}