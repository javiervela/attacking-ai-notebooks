{
  "nbformat": 4,
  "nbformat_minor": 0,
  "metadata": {
    "colab": {
      "name": "Poisoning_Attack_Spam_Filter",
      "provenance": [],
      "collapsed_sections": []
    },
    "kernelspec": {
      "name": "python3",
      "display_name": "Python 3"
    },
    "language_info": {
      "name": "python"
    }
  },
  "cells": [
    {
      "cell_type": "markdown",
      "source": [
        "# Poisoning Attack Spam Filter\n",
        "\n",
        "Code based on [Build a machine learning email spam detector with Python](https://blog.logrocket.com/email-spam-detector-python-machine-learning/"
      ],
      "metadata": {
        "id": "8GrOvKqSTjhX"
      }
    },
    {
      "cell_type": "markdown",
      "source": [
        "## Import Libraries"
      ],
      "metadata": {
        "id": "I8PMuYoVTtRV"
      }
    },
    {
      "cell_type": "code",
      "source": [
        "import pandas as pd\n",
        "from sklearn.model_selection import train_test_split\n",
        "from sklearn.feature_extraction.text import CountVectorizer\n",
        "from sklearn import svm \n",
        "import matplotlib.pyplot as plt\n",
        "from sklearn.metrics import ConfusionMatrixDisplay\n",
        "import random"
      ],
      "metadata": {
        "id": "9PLwu3mwMCiC"
      },
      "execution_count": 1,
      "outputs": []
    },
    {
      "cell_type": "markdown",
      "source": [
        "## Download Data and Process CSV"
      ],
      "metadata": {
        "id": "BcuM-17hTx8f"
      }
    },
    {
      "cell_type": "code",
      "source": [
        "!wget https://raw.githubusercontent.com/SmallLion/Python-Projects/main/Spam-detection/spam.csv"
      ],
      "metadata": {
        "colab": {
          "base_uri": "https://localhost:8080/"
        },
        "id": "GJpEuu13MFIq",
        "outputId": "1c8c9c99-807c-46c4-b78a-efa72def53fb"
      },
      "execution_count": 2,
      "outputs": [
        {
          "output_type": "stream",
          "name": "stdout",
          "text": [
            "--2022-04-21 00:28:28--  https://raw.githubusercontent.com/SmallLion/Python-Projects/main/Spam-detection/spam.csv\n",
            "Resolving raw.githubusercontent.com (raw.githubusercontent.com)... 185.199.108.133, 185.199.109.133, 185.199.110.133, ...\n",
            "Connecting to raw.githubusercontent.com (raw.githubusercontent.com)|185.199.108.133|:443... connected.\n",
            "HTTP request sent, awaiting response... 200 OK\n",
            "Length: 499362 (488K) [text/plain]\n",
            "Saving to: ‘spam.csv.24’\n",
            "\n",
            "\rspam.csv.24           0%[                    ]       0  --.-KB/s               \rspam.csv.24         100%[===================>] 487.66K  --.-KB/s    in 0.03s   \n",
            "\n",
            "2022-04-21 00:28:28 (17.7 MB/s) - ‘spam.csv.24’ saved [499362/499362]\n",
            "\n"
          ]
        }
      ]
    },
    {
      "cell_type": "code",
      "source": [
        "spam = pd.read_csv('spam.csv')"
      ],
      "metadata": {
        "id": "21H_pJ4ePFeI"
      },
      "execution_count": 3,
      "outputs": []
    },
    {
      "cell_type": "markdown",
      "source": [
        "## Split Dataset into Train and Test"
      ],
      "metadata": {
        "id": "KTBRVS9qUBU4"
      }
    },
    {
      "cell_type": "code",
      "source": [
        "x = spam['v2']\n",
        "y = spam[\"v1\"]\n",
        "x_train, x_test, y_train, y_test = train_test_split(x, y,test_size = 0.2)\n",
        "x_train, x_poisoning, y_train, y_poisoning = train_test_split(x_train, y_train,test_size = 0.5)"
      ],
      "metadata": {
        "id": "oTBse1pPQHHr"
      },
      "execution_count": 4,
      "outputs": []
    },
    {
      "cell_type": "code",
      "source": [
        "data_train_dic = {'x': x_train, 'y': y_train}\n",
        "data_train = pd.DataFrame(data_train_dic)\n",
        "data_test_dic = {'x': x_test, 'y': y_test}\n",
        "data_test = pd.DataFrame(data_test_dic)\n",
        "data_poisoning_dic = {'x': x_poisoning, 'y': y_poisoning}\n",
        "data_poisoning = pd.DataFrame(data_poisoning_dic)"
      ],
      "metadata": {
        "id": "U2Y1LhsJrAXJ"
      },
      "execution_count": 5,
      "outputs": []
    },
    {
      "cell_type": "code",
      "source": [
        "print(\"TRAIN DATA. size:\", len(data_train))\n",
        "print(data_train.head(10))"
      ],
      "metadata": {
        "colab": {
          "base_uri": "https://localhost:8080/"
        },
        "id": "XNNxaC8PrYrY",
        "outputId": "f754dc6f-2321-4e11-f758-3a432ed31ef5"
      },
      "execution_count": 6,
      "outputs": [
        {
          "output_type": "stream",
          "name": "stdout",
          "text": [
            "TRAIN DATA. size: 2228\n",
            "                                                      x     y\n",
            "1296  Sure! I am driving but will reach my destinati...   ham\n",
            "4741              Ya very nice. . .be ready on thursday   ham\n",
            "4173              And pls pls drink plenty plenty water   ham\n",
            "4569  Wanna have a laugh? Try CHIT-CHAT on your mobi...  spam\n",
            "3289  My tuition is at 330. Hm we go for the 1120 to...   ham\n",
            "664   Yes baby! We can study all the positions of th...   ham\n",
            "2743  But my family not responding for anything. Now...   ham\n",
            "463                       Sorry, I'll call later ok bye   ham\n",
            "1533                   Horrible bf... I now v hungry...   ham\n",
            "3028              What is your record for one night? :)   ham\n"
          ]
        }
      ]
    },
    {
      "cell_type": "code",
      "source": [
        "print(\"TEST DATA. size:\", len(data_test))\n",
        "print(data_test.head(10))"
      ],
      "metadata": {
        "colab": {
          "base_uri": "https://localhost:8080/"
        },
        "id": "mhUXlIZ3r48E",
        "outputId": "eb93a0bc-a7ad-4e50-b6ab-2bf3e24d46b9"
      },
      "execution_count": 7,
      "outputs": [
        {
          "output_type": "stream",
          "name": "stdout",
          "text": [
            "TEST DATA. size: 1115\n",
            "                                                      x     y\n",
            "5009  By the way, 'rencontre' is to meet again. Moun...   ham\n",
            "2727                Whatsup there. Dont u want to sleep   ham\n",
            "5281             And how you will do that, princess? :)   ham\n",
            "253   Ups which is 3days also, and the shipping comp...   ham\n",
            "3828           Sure, I'll see if I can come by in a bit   ham\n",
            "2685  URGENT! We are trying to contact U. Todays dra...  spam\n",
            "884   Yoyyooo u know how to change permissions for a...   ham\n",
            "651   I'm gonna say no. Sorry. I would but as normal...   ham\n",
            "2443  &lt;#&gt;  great loxahatchee xmas tree burning...   ham\n",
            "574                   Nope i waiting in sch 4 daddy...    ham\n"
          ]
        }
      ]
    },
    {
      "cell_type": "code",
      "source": [
        "print(\"POISONING DATA. size:\", len(data_poisoning))\n",
        "print(data_poisoning.head(10))"
      ],
      "metadata": {
        "colab": {
          "base_uri": "https://localhost:8080/"
        },
        "id": "uWlSmQm9symf",
        "outputId": "5f3fcab4-2826-4419-9aa8-53ba5d6befdc"
      },
      "execution_count": 8,
      "outputs": [
        {
          "output_type": "stream",
          "name": "stdout",
          "text": [
            "POISONING DATA. size: 2229\n",
            "                                                      x     y\n",
            "5521                You are a big chic. Common. Declare   ham\n",
            "2813  Alright if you're sure, let me know when you'r...   ham\n",
            "3072         Somebody should go to andros and steal ice   ham\n",
            "1037  naughty little thought: 'its better to flirt, ...   ham\n",
            "30    Wait that's still not all that clear, were you...   ham\n",
            "541   A famous quote : when you develop the ability ...   ham\n",
            "67    Urgent UR awarded a complimentary trip to Euro...  spam\n",
            "4387          see you then, we're all christmassy here!   ham\n",
            "5299  Well good morning mr . Hows london treatin' ya...   ham\n",
            "5248             U come n search tat vid..not finishd..   ham\n"
          ]
        }
      ]
    },
    {
      "cell_type": "markdown",
      "source": [
        "## Train Model"
      ],
      "metadata": {
        "id": "j0eb0LmZULbF"
      }
    },
    {
      "cell_type": "code",
      "source": [
        "cv = CountVectorizer()\n",
        "features = cv.fit_transform(x_train)"
      ],
      "metadata": {
        "id": "aIJ8h9jCQMQ7"
      },
      "execution_count": 9,
      "outputs": []
    },
    {
      "cell_type": "code",
      "source": [
        "model = svm.SVC()\n",
        "model.fit(features,y_train)"
      ],
      "metadata": {
        "colab": {
          "base_uri": "https://localhost:8080/"
        },
        "id": "dUenLqPmQVkI",
        "outputId": "928da526-3ede-4e9a-a897-4e141c1e6b59"
      },
      "execution_count": 10,
      "outputs": [
        {
          "output_type": "execute_result",
          "data": {
            "text/plain": [
              "SVC()"
            ]
          },
          "metadata": {},
          "execution_count": 10
        }
      ]
    },
    {
      "cell_type": "markdown",
      "source": [
        "## Evaluate Model Accuracy"
      ],
      "metadata": {
        "id": "lEaYV27cUbfb"
      }
    },
    {
      "cell_type": "code",
      "source": [
        "features_test = cv.transform(x_test)\n",
        "print(\"Accuracy: {}\".format(model.score(features_test,y_test)))"
      ],
      "metadata": {
        "colab": {
          "base_uri": "https://localhost:8080/"
        },
        "id": "A4x12XXKQaW6",
        "outputId": "e47681e9-420c-4ba8-8f5f-efbbff749544"
      },
      "execution_count": 11,
      "outputs": [
        {
          "output_type": "stream",
          "name": "stdout",
          "text": [
            "Accuracy: 0.9721973094170404\n"
          ]
        }
      ]
    },
    {
      "cell_type": "code",
      "source": [
        "y_pred_test = model.predict(features_test)\n",
        "\n",
        "ConfusionMatrixDisplay.from_predictions(y_test, y_pred_test)\n",
        "plt.show()"
      ],
      "metadata": {
        "colab": {
          "base_uri": "https://localhost:8080/",
          "height": 279
        },
        "id": "P3j6PaM7Wml8",
        "outputId": "09877927-ac65-40e9-da43-5ef0a5847812"
      },
      "execution_count": 12,
      "outputs": [
        {
          "output_type": "display_data",
          "data": {
            "text/plain": [
              "<Figure size 432x288 with 2 Axes>"
            ],
            "image/png": "[encoded data removed]"
          },
          "metadata": {
            "needs_background": "light"
          }
        }
      ]
    },
    {
      "cell_type": "markdown",
      "source": [
        "## Poison 1% of Training Data and Re-train model"
      ],
      "metadata": {
        "id": "RnidrzLbUhrI"
      }
    },
    {
      "cell_type": "code",
      "source": [
        "for i, y in enumerate(y_poisoning):\n",
        "  if y == 'ham':\n",
        "    y_poisoning.iloc[i] = 'spam'\n",
        "  else:\n",
        "    y_poisoning.iloc[i] = 'ham'\n"
      ],
      "metadata": {
        "id": "7JzOlY6jROkh"
      },
      "execution_count": 13,
      "outputs": []
    },
    {
      "cell_type": "code",
      "source": [
        "data_poisoning_dic = {'x': x_poisoning, 'y': y_poisoning}\n",
        "data_poisoning = pd.DataFrame(data_poisoning_dic)\n",
        "print(\"POISONED DATA. size:\", len(data_poisoning))\n",
        "print(data_poisoning.head(10))"
      ],
      "metadata": {
        "colab": {
          "base_uri": "https://localhost:8080/"
        },
        "id": "ss7Are53sBsq",
        "outputId": "ef208b0a-f857-4a87-c215-86fa38e8bf14"
      },
      "execution_count": 14,
      "outputs": [
        {
          "output_type": "stream",
          "name": "stdout",
          "text": [
            "POISONED DATA. size: 2229\n",
            "                                                      x     y\n",
            "5521                You are a big chic. Common. Declare  spam\n",
            "2813  Alright if you're sure, let me know when you'r...  spam\n",
            "3072         Somebody should go to andros and steal ice  spam\n",
            "1037  naughty little thought: 'its better to flirt, ...  spam\n",
            "30    Wait that's still not all that clear, were you...  spam\n",
            "541   A famous quote : when you develop the ability ...  spam\n",
            "67    Urgent UR awarded a complimentary trip to Euro...   ham\n",
            "4387          see you then, we're all christmassy here!  spam\n",
            "5299  Well good morning mr . Hows london treatin' ya...  spam\n",
            "5248             U come n search tat vid..not finishd..  spam\n"
          ]
        }
      ]
    },
    {
      "cell_type": "code",
      "source": [
        "features = cv.fit_transform(pd.concat([x_train,x_poisoning]))"
      ],
      "metadata": {
        "id": "8tHhqYgqqZId"
      },
      "execution_count": 15,
      "outputs": []
    },
    {
      "cell_type": "code",
      "source": [
        "model.fit(features,pd.concat([y_train,y_poisoning]))"
      ],
      "metadata": {
        "colab": {
          "base_uri": "https://localhost:8080/"
        },
        "id": "kg80dFndSkM4",
        "outputId": "a488ad4b-2f61-4b87-b91a-98102dfac2ad"
      },
      "execution_count": 16,
      "outputs": [
        {
          "output_type": "execute_result",
          "data": {
            "text/plain": [
              "SVC()"
            ]
          },
          "metadata": {},
          "execution_count": 16
        }
      ]
    },
    {
      "cell_type": "markdown",
      "source": [
        "## Evaluate Poisoned Model Accuracy"
      ],
      "metadata": {
        "id": "GR_WKQMbVEUU"
      }
    },
    {
      "cell_type": "code",
      "source": [
        "features_test = cv.transform(x_test)\n",
        "print(\"Accuracy: {}\".format(model.score(features_test,y_test)))"
      ],
      "metadata": {
        "colab": {
          "base_uri": "https://localhost:8080/"
        },
        "id": "CXodpJrsTeT9",
        "outputId": "2ef687b2-ae82-4284-ac71-235f019b1324"
      },
      "execution_count": 17,
      "outputs": [
        {
          "output_type": "stream",
          "name": "stdout",
          "text": [
            "Accuracy: 0.4744394618834081\n"
          ]
        }
      ]
    },
    {
      "cell_type": "code",
      "source": [
        "y_pred_test = model.predict(features_test)\n",
        "\n",
        "ConfusionMatrixDisplay.from_predictions(y_test, y_pred_test)\n",
        "plt.show()"
      ],
      "metadata": {
        "colab": {
          "base_uri": "https://localhost:8080/",
          "height": 281
        },
        "id": "JW4os03VyurQ",
        "outputId": "f00a1dd9-dc10-46c8-db4e-6c7fd551e2c6"
      },
      "execution_count": 18,
      "outputs": [
        {
          "output_type": "display_data",
          "data": {
            "text/plain": [
              "<Figure size 432x288 with 2 Axes>"
            ],
            "image/png": "[encoded data removed]"
          },
          "metadata": {
            "needs_background": "light"
          }
        }
      ]
    },
    {
      "cell_type": "markdown",
      "source": [
        "## Different poisoning"
      ],
      "metadata": {
        "id": "gF8-quof1Xp3"
      }
    },
    {
      "cell_type": "code",
      "source": [
        "y_spam_only = [ row['v1'] for index, row in spam.iterrows() if row['v1'] == 'spam']\n",
        "x_spam_only = [ row['v2'] for index, row in spam.iterrows() if row['v1'] == 'spam']"
      ],
      "metadata": {
        "id": "7NClwzvZzfca"
      },
      "execution_count": 19,
      "outputs": []
    },
    {
      "cell_type": "code",
      "source": [
        "data_spam_only_dic = {'x': x_spam_only, 'y': y_spam_only}\n",
        "data_spam_only = pd.DataFrame(data_spam_only_dic)\n",
        "y_spam_only = data_spam_only.y\n",
        "x_spam_only = data_spam_only.x\n",
        "print(\"POISONED DATA. size:\", len(data_spam_only))\n",
        "print(data_spam_only.head(10))"
      ],
      "metadata": {
        "colab": {
          "base_uri": "https://localhost:8080/"
        },
        "outputId": "f3133a97-d459-480c-9ca4-1b7a14a09263",
        "id": "6RJH6fhE1ah6"
      },
      "execution_count": 20,
      "outputs": [
        {
          "output_type": "stream",
          "name": "stdout",
          "text": [
            "POISONED DATA. size: 747\n",
            "                                                   x     y\n",
            "0  Free entry in 2 a wkly comp to win FA Cup fina...  spam\n",
            "1  FreeMsg Hey there darling it's been 3 week's n...  spam\n",
            "2  WINNER!! As a valued network customer you have...  spam\n",
            "3  Had your mobile 11 months or more? U R entitle...  spam\n",
            "4  SIX chances to win CASH! From 100 to 20,000 po...  spam\n",
            "5  URGENT! You have won a 1 week FREE membership ...  spam\n",
            "6  XXXMobileMovieClub: To use your credit, click ...  spam\n",
            "7  England v Macedonia - dont miss the goals/team...  spam\n",
            "8  Thanks for your subscription to Ringtone UK yo...  spam\n",
            "9  07732584351 - Rodger Burns - MSG = We tried to...  spam\n"
          ]
        }
      ]
    },
    {
      "cell_type": "code",
      "source": [
        "for i, y in enumerate(y_spam_only):\n",
        "  #if random.random() < 0.5:\n",
        "  y_spam_only.loc[i] = 'ham'"
      ],
      "metadata": {
        "id": "r9AcWqpc1krt"
      },
      "execution_count": 21,
      "outputs": []
    },
    {
      "cell_type": "code",
      "source": [
        "print(\"POISONED DATA. size:\", len(data_spam_only))\n",
        "print(data_spam_only.head(10))"
      ],
      "metadata": {
        "colab": {
          "base_uri": "https://localhost:8080/"
        },
        "id": "QrfHlE9H1mkY",
        "outputId": "6551720c-2460-42ca-c042-c248d8cbe73c"
      },
      "execution_count": 22,
      "outputs": [
        {
          "output_type": "stream",
          "name": "stdout",
          "text": [
            "POISONED DATA. size: 747\n",
            "                                                   x    y\n",
            "0  Free entry in 2 a wkly comp to win FA Cup fina...  ham\n",
            "1  FreeMsg Hey there darling it's been 3 week's n...  ham\n",
            "2  WINNER!! As a valued network customer you have...  ham\n",
            "3  Had your mobile 11 months or more? U R entitle...  ham\n",
            "4  SIX chances to win CASH! From 100 to 20,000 po...  ham\n",
            "5  URGENT! You have won a 1 week FREE membership ...  ham\n",
            "6  XXXMobileMovieClub: To use your credit, click ...  ham\n",
            "7  England v Macedonia - dont miss the goals/team...  ham\n",
            "8  Thanks for your subscription to Ringtone UK yo...  ham\n",
            "9  07732584351 - Rodger Burns - MSG = We tried to...  ham\n"
          ]
        }
      ]
    },
    {
      "cell_type": "code",
      "source": [
        "features_spam_only = cv.fit_transform(pd.concat([x_spam_only, x_train]))"
      ],
      "metadata": {
        "id": "fIe32N3i1ah9"
      },
      "execution_count": 23,
      "outputs": []
    },
    {
      "cell_type": "code",
      "source": [
        "model_poisoning_spam = svm.SVC()\n",
        "model_poisoning_spam.fit(features_spam_only,pd.concat([y_spam_only, y_train]))"
      ],
      "metadata": {
        "colab": {
          "base_uri": "https://localhost:8080/"
        },
        "outputId": "e9243c8d-a3ed-4617-cc89-c17949f924cc",
        "id": "f3hY1Ss_1ah-"
      },
      "execution_count": 24,
      "outputs": [
        {
          "output_type": "execute_result",
          "data": {
            "text/plain": [
              "SVC()"
            ]
          },
          "metadata": {},
          "execution_count": 24
        }
      ]
    },
    {
      "cell_type": "markdown",
      "source": [
        "## Evaluate Poisoned Model Accuracy"
      ],
      "metadata": {
        "id": "2-HAtYpF1ah-"
      }
    },
    {
      "cell_type": "code",
      "source": [
        "features_test = cv.transform(x_test)\n",
        "print(\"Accuracy: {}\".format(model_poisoning_spam.score(features_test,y_test)))"
      ],
      "metadata": {
        "colab": {
          "base_uri": "https://localhost:8080/"
        },
        "outputId": "11622918-e2bd-44d9-ddd9-fd8521032609",
        "id": "Mbi-T7Gv1ah_"
      },
      "execution_count": 25,
      "outputs": [
        {
          "output_type": "stream",
          "name": "stdout",
          "text": [
            "Accuracy: 0.8726457399103139\n"
          ]
        }
      ]
    },
    {
      "cell_type": "code",
      "source": [
        "y_pred_test = model_poisoning_spam.predict(features_test)\n",
        "\n",
        "ConfusionMatrixDisplay.from_predictions(y_test, y_pred_test)\n",
        "plt.show()"
      ],
      "metadata": {
        "colab": {
          "base_uri": "https://localhost:8080/",
          "height": 279
        },
        "id": "QnH-uyw63JMp",
        "outputId": "fae089d9-8399-4485-e26d-174188a0d87c"
      },
      "execution_count": 26,
      "outputs": [
        {
          "output_type": "display_data",
          "data": {
            "text/plain": [
              "<Figure size 432x288 with 2 Axes>"
            ],
            "image/png": "[encoded data removed]"
          },
          "metadata": {
            "needs_background": "light"
          }
        }
      ]
    }
  ]
}