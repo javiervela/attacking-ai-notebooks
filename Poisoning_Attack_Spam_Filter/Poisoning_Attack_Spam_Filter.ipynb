{
  "nbformat": 4,
  "nbformat_minor": 0,
  "metadata": {
    "colab": {
      "name": "Poisoning_Attack_Spam_Filter",
      "provenance": [],
      "collapsed_sections": []
    },
    "kernelspec": {
      "name": "python3",
      "display_name": "Python 3"
    },
    "language_info": {
      "name": "python"
    }
  },
  "cells": [
    {
      "cell_type": "markdown",
      "source": [
        "# Poisoning Attack Spam Filter (Spam or Ham)\n",
        "\n",
        "Code based on [Build a machine learning email spam detector with Python](https://blog.logrocket.com/email-spam-detector-python-machine-learning/"
      ],
      "metadata": {
        "id": "8GrOvKqSTjhX"
      }
    },
    {
      "cell_type": "markdown",
      "source": [
        "## Import Libraries"
      ],
      "metadata": {
        "id": "I8PMuYoVTtRV"
      }
    },
    {
      "cell_type": "code",
      "source": [
        "import pandas as pd\n",
        "from sklearn.model_selection import train_test_split\n",
        "from sklearn.feature_extraction.text import CountVectorizer\n",
        "from sklearn import svm \n",
        "import matplotlib.pyplot as plt\n",
        "from sklearn.metrics import ConfusionMatrixDisplay\n",
        "import random"
      ],
      "metadata": {
        "id": "9PLwu3mwMCiC"
      },
      "execution_count": 2,
      "outputs": []
    },
    {
      "cell_type": "markdown",
      "source": [
        "## Download Data and Process CSV"
      ],
      "metadata": {
        "id": "BcuM-17hTx8f"
      }
    },
    {
      "cell_type": "code",
      "source": [
        "!wget https://raw.githubusercontent.com/SmallLion/Python-Projects/main/Spam-detection/spam.csv"
      ],
      "metadata": {
        "colab": {
          "base_uri": "https://localhost:8080/"
        },
        "id": "GJpEuu13MFIq",
        "outputId": "bd19c9f2-2b85-44ea-800b-04609ca67777"
      },
      "execution_count": 3,
      "outputs": [
        {
          "output_type": "stream",
          "name": "stdout",
          "text": [
            "--2022-04-22 14:04:39--  https://raw.githubusercontent.com/SmallLion/Python-Projects/main/Spam-detection/spam.csv\n",
            "Resolving raw.githubusercontent.com (raw.githubusercontent.com)... 185.199.108.133, 185.199.111.133, 185.199.110.133, ...\n",
            "Connecting to raw.githubusercontent.com (raw.githubusercontent.com)|185.199.108.133|:443... connected.\n",
            "HTTP request sent, awaiting response... 200 OK\n",
            "Length: 499362 (488K) [text/plain]\n",
            "Saving to: ‘spam.csv’\n",
            "\n",
            "\rspam.csv              0%[                    ]       0  --.-KB/s               \rspam.csv            100%[===================>] 487.66K  --.-KB/s    in 0.04s   \n",
            "\n",
            "2022-04-22 14:04:39 (12.9 MB/s) - ‘spam.csv’ saved [499362/499362]\n",
            "\n"
          ]
        }
      ]
    },
    {
      "cell_type": "code",
      "source": [
        "spam = pd.read_csv('spam.csv')"
      ],
      "metadata": {
        "id": "21H_pJ4ePFeI"
      },
      "execution_count": 4,
      "outputs": []
    },
    {
      "cell_type": "markdown",
      "source": [
        "## Split Dataset into Train and Test"
      ],
      "metadata": {
        "id": "KTBRVS9qUBU4"
      }
    },
    {
      "cell_type": "code",
      "source": [
        "print(\"Number of 'HAM' instances:\", len([ y for y in spam[\"v1\"] if y == 'ham']) )\n",
        "print(\"Number of 'SPAM' instances:\", len([ y for y in spam[\"v1\"] if y == 'spam']) )"
      ],
      "metadata": {
        "colab": {
          "base_uri": "https://localhost:8080/"
        },
        "id": "Bk8oEsA_l7un",
        "outputId": "54bc829a-43e1-496a-902e-3c5392f6f0e7"
      },
      "execution_count": 14,
      "outputs": [
        {
          "output_type": "stream",
          "name": "stdout",
          "text": [
            "Number of 'HAM' instances: 4825\n",
            "Number of 'SPAM' instances: 747\n"
          ]
        }
      ]
    },
    {
      "cell_type": "code",
      "source": [
        "x = spam['v2']\n",
        "y = spam[\"v1\"]\n",
        "x_train, x_test, y_train, y_test = train_test_split(x, y,test_size = 0.2)\n",
        "x_train, x_poisoning, y_train, y_poisoning = train_test_split(x_train, y_train,test_size = 0.5)"
      ],
      "metadata": {
        "id": "oTBse1pPQHHr"
      },
      "execution_count": 5,
      "outputs": []
    },
    {
      "cell_type": "code",
      "source": [
        "data_train_dic = {'x': x_train, 'y': y_train}\n",
        "data_train = pd.DataFrame(data_train_dic)\n",
        "data_test_dic = {'x': x_test, 'y': y_test}\n",
        "data_test = pd.DataFrame(data_test_dic)\n",
        "data_poisoning_dic = {'x': x_poisoning, 'y': y_poisoning}\n",
        "data_poisoning = pd.DataFrame(data_poisoning_dic)"
      ],
      "metadata": {
        "id": "U2Y1LhsJrAXJ"
      },
      "execution_count": 6,
      "outputs": []
    },
    {
      "cell_type": "code",
      "source": [
        "print(\"TRAIN DATA. size:\", len(data_train))\n",
        "print(data_train.head(10))"
      ],
      "metadata": {
        "colab": {
          "base_uri": "https://localhost:8080/"
        },
        "id": "XNNxaC8PrYrY",
        "outputId": "b856c9ef-e292-4880-efbf-67cdcc98d284"
      },
      "execution_count": 7,
      "outputs": [
        {
          "output_type": "stream",
          "name": "stdout",
          "text": [
            "TRAIN DATA. size: 2228\n",
            "                                                      x     y\n",
            "4856  Thanks  and ! Or bomb and date as my phone wan...   ham\n",
            "954           Filthy stories and GIRLS waiting for your  spam\n",
            "1737  I cant pick the phone right now. Pls send a me...   ham\n",
            "2571  ‰Û_ and don‰Û÷t worry we‰Û÷ll have finished by...   ham\n",
            "1109                    S s..first time..dhoni rocks...   ham\n",
            "2752                         Sat right? Okay thanks...    ham\n",
            "4270  Natalja (25/F) is inviting you to be her frien...  spam\n",
            "2990  HOT LIVE FANTASIES call now 08707509020 Just 2...  spam\n",
            "4414  Yeah I should be able to, I'll text you when I...   ham\n",
            "4755  Don't make life too stressfull.. Always find t...   ham\n"
          ]
        }
      ]
    },
    {
      "cell_type": "code",
      "source": [
        "print(\"TEST DATA. size:\", len(data_test))\n",
        "print(data_test.head(10))"
      ],
      "metadata": {
        "colab": {
          "base_uri": "https://localhost:8080/"
        },
        "id": "mhUXlIZ3r48E",
        "outputId": "d8c57d9d-f79d-403e-d8d5-48f733a64967"
      },
      "execution_count": 8,
      "outputs": [
        {
          "output_type": "stream",
          "name": "stdout",
          "text": [
            "TEST DATA. size: 1115\n",
            "                                                      x    y\n",
            "3204  Oh, yes, I've just been a little under the wea...  ham\n",
            "3604                    Jordan got voted out last nite!  ham\n",
            "1986                           S..antha num corrct dane  ham\n",
            "3406  Beautiful Truth against Gravity.. Read careful...  ham\n",
            "706                      So when do you wanna gym harri  ham\n",
            "3662  Frnd s not juz a word.....not merely a relatio...  ham\n",
            "5244  thanks for the temales it was wonderful. Thank...  ham\n",
            "2820              Oh god..taken the teeth?is it paining  ham\n",
            "4811     fyi I'm at usf now, swing by the room whenever  ham\n",
            "4869  Dip's cell dead. So i m coming with him. U bet...  ham\n"
          ]
        }
      ]
    },
    {
      "cell_type": "code",
      "source": [
        "print(\"POISONING DATA. size:\", len(data_poisoning))\n",
        "print(data_poisoning.head(10))"
      ],
      "metadata": {
        "colab": {
          "base_uri": "https://localhost:8080/"
        },
        "id": "uWlSmQm9symf",
        "outputId": "09e1e3e5-afbe-4a25-a460-9cecc2ebf89c"
      },
      "execution_count": 9,
      "outputs": [
        {
          "output_type": "stream",
          "name": "stdout",
          "text": [
            "POISONING DATA. size: 2229\n",
            "                                                      x     y\n",
            "3361       No messages on her phone. I'm holding it now   ham\n",
            "622   MAKE SURE ALEX KNOWS HIS BIRTHDAY IS OVER IN F...   ham\n",
            "203                            Goodmorning sleeping ga.   ham\n",
            "1889                   I gotta collect da car at 6 lei.   ham\n",
            "423   URGENT! Your Mobile number has been awarded wi...  spam\n",
            "2493  they released another Italian one today and it...   ham\n",
            "999           Aight will do, thanks again for comin out   ham\n",
            "2814  Some are lasting as much as 2 hours. You might...   ham\n",
            "5048  Edison has rightly said, \\A fool can ask more ...   ham\n",
            "1490  Cant believe i said so many things to you this...   ham\n"
          ]
        }
      ]
    },
    {
      "cell_type": "markdown",
      "source": [
        "## Train Model"
      ],
      "metadata": {
        "id": "j0eb0LmZULbF"
      }
    },
    {
      "cell_type": "code",
      "source": [
        "cv = CountVectorizer()\n",
        "features = cv.fit_transform(x_train)"
      ],
      "metadata": {
        "id": "aIJ8h9jCQMQ7"
      },
      "execution_count": 10,
      "outputs": []
    },
    {
      "cell_type": "markdown",
      "source": [
        "**Support Vector Machines for Classification**: finds a function that bests separates both categories."
      ],
      "metadata": {
        "id": "XlRToECbmTnY"
      }
    },
    {
      "cell_type": "code",
      "source": [
        "model = svm.SVC()\n",
        "model.fit(features,y_train)"
      ],
      "metadata": {
        "colab": {
          "base_uri": "https://localhost:8080/"
        },
        "id": "dUenLqPmQVkI",
        "outputId": "a8190cd7-e697-4731-f8c8-8fa4ac994f89"
      },
      "execution_count": 11,
      "outputs": [
        {
          "output_type": "execute_result",
          "data": {
            "text/plain": [
              "SVC()"
            ]
          },
          "metadata": {},
          "execution_count": 11
        }
      ]
    },
    {
      "cell_type": "markdown",
      "source": [
        "## Evaluate Model Accuracy"
      ],
      "metadata": {
        "id": "lEaYV27cUbfb"
      }
    },
    {
      "cell_type": "code",
      "source": [
        "features_test = cv.transform(x_test)\n",
        "print(\"Accuracy: {}\".format(model.score(features_test,y_test)))"
      ],
      "metadata": {
        "colab": {
          "base_uri": "https://localhost:8080/"
        },
        "id": "A4x12XXKQaW6",
        "outputId": "535d6036-3af6-49d0-da93-04a819843d41"
      },
      "execution_count": 15,
      "outputs": [
        {
          "output_type": "stream",
          "name": "stdout",
          "text": [
            "Accuracy: 0.968609865470852\n"
          ]
        }
      ]
    },
    {
      "cell_type": "code",
      "source": [
        "y_pred_test = model.predict(features_test)\n",
        "\n",
        "ConfusionMatrixDisplay.from_predictions(y_test, y_pred_test)\n",
        "plt.show()"
      ],
      "metadata": {
        "colab": {
          "base_uri": "https://localhost:8080/",
          "height": 279
        },
        "id": "P3j6PaM7Wml8",
        "outputId": "866af372-429a-4a1c-fef3-bef3fa6c68d2"
      },
      "execution_count": 16,
      "outputs": [
        {
          "output_type": "display_data",
          "data": {
            "text/plain": [
              "<Figure size 432x288 with 2 Axes>"
            ],
            "image/png": "[encoded data removed]"
          },
          "metadata": {
            "needs_background": "light"
          }
        }
      ]
    },
    {
      "cell_type": "markdown",
      "source": [
        "## Poisoning of Training Data and Re-train model"
      ],
      "metadata": {
        "id": "RnidrzLbUhrI"
      }
    },
    {
      "cell_type": "code",
      "source": [
        "for i, y in enumerate(y_poisoning):\n",
        "  if y == 'ham':\n",
        "    y_poisoning.iloc[i] = 'spam'\n",
        "  else:\n",
        "    y_poisoning.iloc[i] = 'ham'\n"
      ],
      "metadata": {
        "id": "7JzOlY6jROkh"
      },
      "execution_count": 17,
      "outputs": []
    },
    {
      "cell_type": "code",
      "source": [
        "data_poisoning_dic = {'x': x_poisoning, 'y': y_poisoning}\n",
        "data_poisoning = pd.DataFrame(data_poisoning_dic)\n",
        "print(\"POISONED DATA. size:\", len(data_poisoning))\n",
        "print(data_poisoning.head(10))"
      ],
      "metadata": {
        "colab": {
          "base_uri": "https://localhost:8080/"
        },
        "id": "ss7Are53sBsq",
        "outputId": "f6f63108-59f2-4b4b-a5bd-8eb8daa1a005"
      },
      "execution_count": 18,
      "outputs": [
        {
          "output_type": "stream",
          "name": "stdout",
          "text": [
            "POISONED DATA. size: 2229\n",
            "                                                      x     y\n",
            "3361       No messages on her phone. I'm holding it now  spam\n",
            "622   MAKE SURE ALEX KNOWS HIS BIRTHDAY IS OVER IN F...  spam\n",
            "203                            Goodmorning sleeping ga.  spam\n",
            "1889                   I gotta collect da car at 6 lei.  spam\n",
            "423   URGENT! Your Mobile number has been awarded wi...   ham\n",
            "2493  they released another Italian one today and it...  spam\n",
            "999           Aight will do, thanks again for comin out  spam\n",
            "2814  Some are lasting as much as 2 hours. You might...  spam\n",
            "5048  Edison has rightly said, \\A fool can ask more ...  spam\n",
            "1490  Cant believe i said so many things to you this...  spam\n"
          ]
        }
      ]
    },
    {
      "cell_type": "code",
      "source": [
        "features = cv.fit_transform(pd.concat([x_train,x_poisoning]))"
      ],
      "metadata": {
        "id": "8tHhqYgqqZId"
      },
      "execution_count": 19,
      "outputs": []
    },
    {
      "cell_type": "code",
      "source": [
        "model = svm.SVC()\n",
        "model.fit(features,pd.concat([y_train,y_poisoning]))"
      ],
      "metadata": {
        "colab": {
          "base_uri": "https://localhost:8080/"
        },
        "id": "kg80dFndSkM4",
        "outputId": "4c8c91b4-c98c-4c94-b841-b72a7ce69571"
      },
      "execution_count": 21,
      "outputs": [
        {
          "output_type": "execute_result",
          "data": {
            "text/plain": [
              "SVC()"
            ]
          },
          "metadata": {},
          "execution_count": 21
        }
      ]
    },
    {
      "cell_type": "markdown",
      "source": [
        "## Evaluate Poisoned Model Accuracy"
      ],
      "metadata": {
        "id": "GR_WKQMbVEUU"
      }
    },
    {
      "cell_type": "code",
      "source": [
        "features_test = cv.transform(x_test)\n",
        "print(\"Accuracy: {}\".format(model.score(features_test,y_test)))"
      ],
      "metadata": {
        "colab": {
          "base_uri": "https://localhost:8080/"
        },
        "id": "CXodpJrsTeT9",
        "outputId": "899a3a23-db16-48c3-c201-5c404bce8b2d"
      },
      "execution_count": 22,
      "outputs": [
        {
          "output_type": "stream",
          "name": "stdout",
          "text": [
            "Accuracy: 0.5273542600896861\n"
          ]
        }
      ]
    },
    {
      "cell_type": "code",
      "source": [
        "y_pred_test = model.predict(features_test)\n",
        "\n",
        "ConfusionMatrixDisplay.from_predictions(y_test, y_pred_test)\n",
        "plt.show()"
      ],
      "metadata": {
        "colab": {
          "base_uri": "https://localhost:8080/",
          "height": 281
        },
        "id": "JW4os03VyurQ",
        "outputId": "338376ff-603f-4a43-a0a2-7a4d70ce37e6"
      },
      "execution_count": 23,
      "outputs": [
        {
          "output_type": "display_data",
          "data": {
            "text/plain": [
              "<Figure size 432x288 with 2 Axes>"
            ],
            "image/png": "[encoded data removed]"
          },
          "metadata": {
            "needs_background": "light"
          }
        }
      ]
    },
    {
      "cell_type": "markdown",
      "source": [
        "## SPAM only poisoning"
      ],
      "metadata": {
        "id": "gF8-quof1Xp3"
      }
    },
    {
      "cell_type": "code",
      "source": [
        "y_spam_only = [ row['v1'] for index, row in spam.iterrows() if row['v1'] == 'spam']\n",
        "x_spam_only = [ row['v2'] for index, row in spam.iterrows() if row['v1'] == 'spam']"
      ],
      "metadata": {
        "id": "7NClwzvZzfca"
      },
      "execution_count": 40,
      "outputs": []
    },
    {
      "cell_type": "code",
      "source": [
        "data_spam_only_dic = {'x': x_spam_only, 'y': y_spam_only}\n",
        "data_spam_only = pd.DataFrame(data_spam_only_dic)\n",
        "y_spam_only = data_spam_only.y\n",
        "x_spam_only = data_spam_only.x\n",
        "print(\"POISONED DATA. size:\", len(data_spam_only))\n",
        "print(data_spam_only.head(10))"
      ],
      "metadata": {
        "colab": {
          "base_uri": "https://localhost:8080/"
        },
        "outputId": "81085b6b-1d14-4c84-e4e2-eb5a76849190",
        "id": "6RJH6fhE1ah6"
      },
      "execution_count": 41,
      "outputs": [
        {
          "output_type": "stream",
          "name": "stdout",
          "text": [
            "POISONED DATA. size: 747\n",
            "                                                   x     y\n",
            "0  Free entry in 2 a wkly comp to win FA Cup fina...  spam\n",
            "1  FreeMsg Hey there darling it's been 3 week's n...  spam\n",
            "2  WINNER!! As a valued network customer you have...  spam\n",
            "3  Had your mobile 11 months or more? U R entitle...  spam\n",
            "4  SIX chances to win CASH! From 100 to 20,000 po...  spam\n",
            "5  URGENT! You have won a 1 week FREE membership ...  spam\n",
            "6  XXXMobileMovieClub: To use your credit, click ...  spam\n",
            "7  England v Macedonia - dont miss the goals/team...  spam\n",
            "8  Thanks for your subscription to Ringtone UK yo...  spam\n",
            "9  07732584351 - Rodger Burns - MSG = We tried to...  spam\n"
          ]
        }
      ]
    },
    {
      "cell_type": "code",
      "source": [
        "for i, y in enumerate(y_spam_only):\n",
        "  #if random.random() < 0.5:\n",
        "  y_spam_only.loc[i] = 'ham'"
      ],
      "metadata": {
        "id": "r9AcWqpc1krt"
      },
      "execution_count": 42,
      "outputs": []
    },
    {
      "cell_type": "code",
      "source": [
        "print(\"POISONED DATA. size:\", len(data_spam_only))\n",
        "print(data_spam_only.head(10))"
      ],
      "metadata": {
        "colab": {
          "base_uri": "https://localhost:8080/"
        },
        "id": "QrfHlE9H1mkY",
        "outputId": "15ae2bc8-37fb-4ba1-d51f-cc77f168656d"
      },
      "execution_count": 43,
      "outputs": [
        {
          "output_type": "stream",
          "name": "stdout",
          "text": [
            "POISONED DATA. size: 747\n",
            "                                                   x    y\n",
            "0  Free entry in 2 a wkly comp to win FA Cup fina...  ham\n",
            "1  FreeMsg Hey there darling it's been 3 week's n...  ham\n",
            "2  WINNER!! As a valued network customer you have...  ham\n",
            "3  Had your mobile 11 months or more? U R entitle...  ham\n",
            "4  SIX chances to win CASH! From 100 to 20,000 po...  ham\n",
            "5  URGENT! You have won a 1 week FREE membership ...  ham\n",
            "6  XXXMobileMovieClub: To use your credit, click ...  ham\n",
            "7  England v Macedonia - dont miss the goals/team...  ham\n",
            "8  Thanks for your subscription to Ringtone UK yo...  ham\n",
            "9  07732584351 - Rodger Burns - MSG = We tried to...  ham\n"
          ]
        }
      ]
    },
    {
      "cell_type": "code",
      "source": [
        "features_spam_only = cv.fit_transform(pd.concat([x_spam_only, x_train]))"
      ],
      "metadata": {
        "id": "fIe32N3i1ah9"
      },
      "execution_count": 44,
      "outputs": []
    },
    {
      "cell_type": "code",
      "source": [
        "model_poisoning_spam = svm.SVC()\n",
        "model_poisoning_spam.fit(features_spam_only,pd.concat([y_spam_only, y_train]))"
      ],
      "metadata": {
        "colab": {
          "base_uri": "https://localhost:8080/"
        },
        "outputId": "689c8817-25a2-4f68-9ee7-8cf44d01c141",
        "id": "f3hY1Ss_1ah-"
      },
      "execution_count": 45,
      "outputs": [
        {
          "output_type": "execute_result",
          "data": {
            "text/plain": [
              "SVC()"
            ]
          },
          "metadata": {},
          "execution_count": 45
        }
      ]
    },
    {
      "cell_type": "markdown",
      "source": [
        "## Evaluate Poisoned Model Accuracy"
      ],
      "metadata": {
        "id": "2-HAtYpF1ah-"
      }
    },
    {
      "cell_type": "code",
      "source": [
        "features_test = cv.transform(x_test)\n",
        "print(\"Accuracy: {}\".format(model_poisoning_spam.score(features_test,y_test)))"
      ],
      "metadata": {
        "colab": {
          "base_uri": "https://localhost:8080/"
        },
        "outputId": "5930c04f-e7bd-478b-8b63-b853e0400d0d",
        "id": "Mbi-T7Gv1ah_"
      },
      "execution_count": 46,
      "outputs": [
        {
          "output_type": "stream",
          "name": "stdout",
          "text": [
            "Accuracy: 0.8717488789237668\n"
          ]
        }
      ]
    },
    {
      "cell_type": "code",
      "source": [
        "y_pred_test = model_poisoning_spam.predict(features_test)\n",
        "\n",
        "ConfusionMatrixDisplay.from_predictions(y_test, y_pred_test)\n",
        "plt.show()"
      ],
      "metadata": {
        "colab": {
          "base_uri": "https://localhost:8080/",
          "height": 279
        },
        "id": "QnH-uyw63JMp",
        "outputId": "f809643e-bc89-4cc2-f490-93c5b67f8209"
      },
      "execution_count": 47,
      "outputs": [
        {
          "output_type": "display_data",
          "data": {
            "text/plain": [
              "<Figure size 432x288 with 2 Axes>"
            ],
            "image/png": "[encoded data removed]"
          },
          "metadata": {
            "needs_background": "light"
          }
        }
      ]
    }
  ]
}